{
 "cells": [
  {
   "cell_type": "code",
   "execution_count": 1,
   "id": "c3b203c1",
   "metadata": {},
   "outputs": [],
   "source": [
    "from tkinter import*\n",
    "from tkinter import messagebox\n",
    "import random"
   ]
  },
  {
   "cell_type": "code",
   "execution_count": 3,
   "id": "7f621254",
   "metadata": {},
   "outputs": [],
   "source": [
    "window = Tk()\n",
    "window.minsize(width=300, height=300)\n",
    "window.title(\"Password Manager\")\n",
    "window.config(padx=20, pady=20)\n",
    "\n",
    "def password_generator():\n",
    "    string=\"abcdefghijklmnopqrstuvwxyz\"\n",
    "    full_string=string+string.upper()\n",
    "    letters = list(full_string)\n",
    "\n",
    "    nums=['0','1','2','3','4','5','6','7','8','9']\n",
    "    symbols=list(\"!@#$%^&*()_+\")\n",
    "\n",
    "    password=[]\n",
    "    for i in range(random.choice((6,8))):\n",
    "        password.append(random.choice(letters))\n",
    "    for j in range(random.choice((3,4))):\n",
    "        password.append(random.choice(nums))\n",
    "    for k in range(random.choice((2,3))):\n",
    "        password.append(random.choice(symbols))\n",
    "    random.shuffle(password)\n",
    "\n",
    "    password=\"\".join(password)\n",
    "    password_entry.insert(END,password)\n",
    "\n",
    "def write_data():\n",
    "    with open(\"data.txt\",\"a\") as f:\n",
    "        website = website_entry.get()\n",
    "        username = email_username_entry.get()\n",
    "        password = password_entry.get()\n",
    "        if len(website)==0 or len(username)==0 or len(password)==0:\n",
    "            messagebox.showinfo(title=\"oops\",message=\"no field should be empty\")\n",
    "        else:    \n",
    "            is_ok=messagebox.askokcancel(title=website, message=f\"you entered these information\\nwebsite :{website}\\n\\\n",
    "username :{username}\\npassword :{password}\\nis this ok to save\")\n",
    "            if is_ok:\n",
    "                f.write(f\"website : {website} | Username : {username} | Password : {password}\\n\")\n",
    "                equals = \"=\"*(len(website)+len(username)+len(password)+40)\n",
    "                f.write(f\"{equals}\\n\")\n",
    "\n",
    "                website_entry.delete(0,END)\n",
    "                password_entry.delete(0,END)\n",
    "        \n",
    "canvas = Canvas(width=200, height=200)\n",
    "lock = PhotoImage(file=r\"C:\\Users\\sunil\\Downloads\\password-manager-start\\logo.png\")\n",
    "canvas.create_image(100,100, image=lock)\n",
    "canvas.grid(column=1, row=0)\n",
    "\n",
    "website_label = Label(text=\"Website\")\n",
    "website_label.grid(column=0, row=1)\n",
    "website_entry = Entry(width=35)\n",
    "website_entry.grid(column=1, row=1, columnspan=2)\n",
    "website_entry.focus()\n",
    "\n",
    "email_username_label = Label(text=\"Email/Username:\")\n",
    "email_username_label.grid(column=0, row=2)\n",
    "email_username_entry = Entry(width=35)\n",
    "email_username_entry.insert(END, string=\"mailme.sunil2379@gmail.com\")\n",
    "email_username_entry.grid(column=1, row=2, columnspan=2)\n",
    "\n",
    "password_label = Label(text=\"Password:\")\n",
    "password_label.grid(column=0, row=3)\n",
    "password_entry = Entry(width=17)\n",
    "password_entry.grid(column=1, row=3)\n",
    "\n",
    "gen_pass_button = Button(text=\"Generate Password\", command=password_generator)\n",
    "gen_pass_button.grid(column=2, row=3)\n",
    "\n",
    "add_button = Button(text=\"Add\", command=write_data)\n",
    "add_button.grid(column=1, row=4)\n",
    "\n",
    "window.mainloop()"
   ]
  },
  {
   "cell_type": "code",
   "execution_count": 40,
   "id": "341edf79",
   "metadata": {},
   "outputs": [
    {
     "data": {
      "text/plain": [
       "'C:\\\\Users\\\\sunil'"
      ]
     },
     "execution_count": 40,
     "metadata": {},
     "output_type": "execute_result"
    }
   ],
   "source": [
    "pwd"
   ]
  },
  {
   "cell_type": "code",
   "execution_count": null,
   "id": "d6fdcd41",
   "metadata": {},
   "outputs": [],
   "source": []
  }
 ],
 "metadata": {
  "kernelspec": {
   "display_name": "Python 3",
   "language": "python",
   "name": "python3"
  },
  "language_info": {
   "codemirror_mode": {
    "name": "ipython",
    "version": 3
   },
   "file_extension": ".py",
   "mimetype": "text/x-python",
   "name": "python",
   "nbconvert_exporter": "python",
   "pygments_lexer": "ipython3",
   "version": "3.8.8"
  }
 },
 "nbformat": 4,
 "nbformat_minor": 5
}
