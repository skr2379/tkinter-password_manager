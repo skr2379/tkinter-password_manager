{
 "cells": [
  {
   "cell_type": "code",
   "execution_count": 1,
   "id": "d6fdcd41",
   "metadata": {},
   "outputs": [
    {
     "name": "stdout",
     "output_type": "stream",
     "text": [
      "Collecting pyperclip\n",
      "  Downloading pyperclip-1.8.2.tar.gz (20 kB)\n",
      "Building wheels for collected packages: pyperclip\n",
      "  Building wheel for pyperclip (setup.py): started\n",
      "  Building wheel for pyperclip (setup.py): finished with status 'done'\n",
      "  Created wheel for pyperclip: filename=pyperclip-1.8.2-py3-none-any.whl size=11107 sha256=8617d26cd8dd4c8be1f67ae8e2c8ccb5a7dd8156e3f67eaaeb2c5545aedb01d5\n",
      "  Stored in directory: c:\\users\\sunil\\appdata\\local\\pip\\cache\\wheels\\7f\\1a\\65\\84ff8c386bec21fca6d220ea1f5498a0367883a78dd5ba6122\n",
      "Successfully built pyperclip\n",
      "Installing collected packages: pyperclip\n",
      "Successfully installed pyperclip-1.8.2\n"
     ]
    }
   ],
   "source": [
    "!pip install pyperclip     # install pyperclip module"
   ]
  },
  {
   "cell_type": "code",
   "execution_count": 4,
   "id": "c3b203c1",
   "metadata": {},
   "outputs": [],
   "source": [
    "from tkinter import*                #import tkinter module\n",
    "from tkinter import messagebox     # import messagebox module\n",
    "import random                       # import random module"
   ]
  },
  {
   "cell_type": "code",
   "execution_count": 5,
   "id": "a77ea6c1",
   "metadata": {},
   "outputs": [],
   "source": [
    "import pyperclip                # import pyperclip module for clipboard copy paste funcctions"
   ]
  },
  {
   "cell_type": "code",
   "execution_count": 8,
   "id": "7f621254",
   "metadata": {},
   "outputs": [],
   "source": [
    "window = Tk()               # create a window from class Tk\n",
    "window.minsize(width=300, height=300)     # define window height and width\n",
    "window.title(\"Password Manager\")          # define window title\n",
    "window.config(padx=20, pady=20)                # define padding \n",
    "\n",
    "def password_generator():            # function to generate password\n",
    "    string=\"abcdefghijklmnopqrstuvwxyz\"\n",
    "    full_string=string+string.upper()\n",
    "    letters = list(full_string)\n",
    "\n",
    "    nums=['0','1','2','3','4','5','6','7','8','9']\n",
    "    symbols=list(\"!@#$%^&*()_+\")\n",
    "\n",
    "    password=[]\n",
    "    for i in range(random.choice((6,8))):        # rule 1 for password --should have 6 to 8 char\n",
    "        password.append(random.choice(letters))\n",
    "    for j in range(random.choice((3,4))):        # rule 2 for password --should have 3 to 4 numbers\n",
    "        password.append(random.choice(nums))\n",
    "    for k in range(random.choice((2,3))):       # rule 3 for password --should have 2 to 3 special chars\n",
    "        password.append(random.choice(symbols))\n",
    "    random.shuffle(password)\n",
    "\n",
    "    password=\"\".join(password)\n",
    "    password_entry.insert(END,password)      # put generated password in password_entry field\n",
    "    pyperclip.copy(password)                  # copy password from password_entry field to clipboard\n",
    "\n",
    "def write_data():           # function to write username, password, website name in a text file from password manager\n",
    "    with open(\"data.txt\",\"a\") as f:\n",
    "        website = website_entry.get()\n",
    "        username = email_username_entry.get()\n",
    "        password = password_entry.get()\n",
    "        if len(website)==0 or len(username)==0 or len(password)==0:   # rule -- no field should be empty\n",
    "            messagebox.showinfo(title=\"oops\",message=\"no field should be empty\")\n",
    "        else:    \n",
    "            is_ok=messagebox.askokcancel(title=website, message=f\"you entered these information\\nwebsite :{website}\\n\\\n",
    "username :{username}\\npassword :{password}\\nis this ok to save\")\n",
    "            if is_ok:\n",
    "                f.write(f\"website : {website} | Username : {username} | Password : {password}\\n\")\n",
    "                equals = \"=\"*(len(website)+len(username)+len(password)+40)\n",
    "                f.write(f\"{equals}\\n\")\n",
    "\n",
    "                website_entry.delete(0,END)    # information deleted from screen once stored in text file\n",
    "                password_entry.delete(0,END)    # information deleted from screen once stored in text file\n",
    "        \n",
    "canvas = Canvas(width=200, height=200)       # gen a canvas of width= 200 and height=200\n",
    "lock = PhotoImage(file=r\"C:\\Users\\sunil\\Downloads\\password-manager-start\\logo.png\") \n",
    "canvas.create_image(100,100, image=lock)    # image on canvas\n",
    "canvas.grid(column=1, row=0)                # canvas alignment by grid manager\n",
    "\n",
    "website_label = Label(text=\"Website\")   # label created for website name\n",
    "website_label.grid(column=0, row=1)\n",
    "website_entry = Entry(width=35)          # entry created for website information for user \n",
    "website_entry.grid(column=1, row=1, columnspan=2)\n",
    "website_entry.focus()            # cursor starts from website entry\n",
    "\n",
    "email_username_label = Label(text=\"Email/Username:\")\n",
    "email_username_label.grid(column=0, row=2)\n",
    "email_username_entry = Entry(width=35)\n",
    "email_username_entry.insert(END, string=\"mailme.sunil2379@gmail.com\")\n",
    "email_username_entry.grid(column=1, row=2, columnspan=2)\n",
    "\n",
    "password_label = Label(text=\"Password:\")\n",
    "password_label.grid(column=0, row=3)\n",
    "password_entry = Entry(width=17)\n",
    "password_entry.grid(column=1, row=3)\n",
    "\n",
    "gen_pass_button = Button(text=\"Generate Password\", command=password_generator) # button created and bind with function password_generator\n",
    "gen_pass_button.grid(column=2, row=3)\n",
    "\n",
    "add_button = Button(text=\"Add\", command=write_data)  # button created and bind with function write_data\n",
    "add_button.grid(column=1, row=4)\n",
    "\n",
    "window.mainloop()"
   ]
  },
  {
   "cell_type": "code",
   "execution_count": 11,
   "id": "341edf79",
   "metadata": {},
   "outputs": [
    {
     "data": {
      "text/plain": [
       "'C:\\\\Users\\\\sunil'"
      ]
     },
     "execution_count": 11,
     "metadata": {},
     "output_type": "execute_result"
    }
   ],
   "source": [
    "pwd    # to check current working directory, 'data.txt' file stored at this location."
   ]
  },
  {
   "cell_type": "code",
   "execution_count": null,
   "id": "1fc9283f",
   "metadata": {},
   "outputs": [],
   "source": []
  }
 ],
 "metadata": {
  "kernelspec": {
   "display_name": "Python 3",
   "language": "python",
   "name": "python3"
  },
  "language_info": {
   "codemirror_mode": {
    "name": "ipython",
    "version": 3
   },
   "file_extension": ".py",
   "mimetype": "text/x-python",
   "name": "python",
   "nbconvert_exporter": "python",
   "pygments_lexer": "ipython3",
   "version": "3.8.8"
  }
 },
 "nbformat": 4,
 "nbformat_minor": 5
}
